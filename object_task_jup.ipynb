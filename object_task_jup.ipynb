{
 "cells": [
  {
   "cell_type": "code",
   "execution_count": null,
   "id": "186c53ec",
   "metadata": {},
   "outputs": [],
   "source": [
    "'''trial loop\n",
    "\n",
    "trial procedure: List of object classes (~30 classes with type: natural_inanimate, natural_animate, artificial_inanimate)\n",
    "'''\n",
    "\n",
    "anim_natural = []\n",
    "\n",
    "inanim_natural = []\n",
    "\n",
    "inanim_artificial = []\n",
    "\n",
    "import random\n",
    "\n",
    "\n",
    "\n",
    "\n",
    "#fixation\n",
    "\n",
    "#object\n",
    "    #using the class from the trial procedure, select a random image e.g., bear (54)jpg\n",
    "    #insert image into the image component\n",
    "    im_class = 'bear'\n",
    "    image  = f'stim/{im_class}/{im_class}(1).jpg'\n",
    "\n",
    "#mask\n",
    "\n",
    "#prompt\n",
    "    #stim1 = target\n",
    "    #stim 2-9: randomly seelected classes from the trial procedure with the constraint that there are 3 of each type {CODE THIS}\n",
    "    #randomly assign each stim to a location 1 - 9\n"
   ]
  },
  {
   "cell_type": "code",
   "execution_count": null,
   "id": "8fa143cf",
   "metadata": {},
   "outputs": [],
   "source": [
    "import random\n",
    "\n",
    "# Define your categories with values\n",
    "anim_natural = ['bear', 'cat', 'hand', 'human', 'dog']\n",
    "inanim_natural = ['apple', 'flower', 'tree', 'leaf', 'fruit']\n",
    "inanim_artificial = ['airplane', 'bicycle', 'chair', 'truck', 'house']\n",
    "\n",
    "# Select 3 random values from each image category (e.g. anim_natural, inanim_natural, inanim_artificial)\n",
    "selected_values = (\n",
    "    random.sample(anim_natural, 3) +\n",
    "    random.sample(inanim_natural, 3) +\n",
    "    random.sample(inanim_artificial, 3)\n",
    ")\n",
    "\n",
    "print(selected_values)\n"
   ]
  },
  {
   "cell_type": "code",
   "execution_count": null,
   "id": "52c1749d",
   "metadata": {},
   "outputs": [],
   "source": [
    "anim_natural = ['bear', 'cat', 'hand', 'human', 'dog']\n",
    "inanim_natural = ['apple', 'flower', 'tree', 'leaf', 'fruit']\n",
    "inanim_artificial = ['airplane', 'bicycle', 'chair', 'truck', 'house']\n",
    "\n",
    "im_classes = anim_natural + inanim_natural + inanim_artificial\n",
    "\n",
    "print(im_classes)"
   ]
  },
  {
   "cell_type": "markdown",
   "id": "c42030ea",
   "metadata": {},
   "source": [
    "Prompt"
   ]
  },
  {
   "cell_type": "code",
   "execution_count": null,
   "id": "13a8b768",
   "metadata": {},
   "outputs": [],
   "source": [
    "import pandas as pd\n",
    "categories = pd.read_excel(\"Users/arsch/MIRCset/categories.xlsx\", sheet_name = None, header = 0)\n",
    "\n"
   ]
  },
  {
   "cell_type": "code",
   "execution_count": null,
   "id": "a17df477",
   "metadata": {},
   "outputs": [],
   "source": [
    "# Working Theory\n",
    "import random\n",
    "\n",
    "# create categories of images (e.g., anim_)\n",
    "anim_natural = ['bear', 'cat', 'hand', 'human', 'dog']\n",
    "inanim_natural = ['apple', 'flower', 'tree', 'leaf', 'fruit']\n",
    "inanim_artificial = ['airplane', 'bicycle', 'chair', 'truck', 'house']\n",
    "\n",
    "im_classes = \n",
    "#load in a trial procedure in stead of defining a list\n",
    "\n",
    "\n",
    "for im_class in im_classes:\n",
    "    int_rand = random.randint(0,50)\n",
    "    im_classes = (\n",
    "        random.sample(anim_natural, 3) +\n",
    "        random.sample(inanim_natural, 3) +\n",
    "        random.sample(inanim_artificial, 3)\n",
    "    )\n",
    "    \n",
    "    img_file = f'Users/arsch/MIRCset/stim/{im_class}/{im_class}({int_rand}).jpg'\n",
    "    print(img_file)\n",
    "\n",
    "\n",
    "    target = im_class\n",
    "\n",
    "    distractors = im_classes.copy()\n",
    "    if target in im_classes:\n",
    "        distractors.remove(target)\n",
    "    \n",
    "    random.shuffle(distractors)\n",
    "    prompts = [target] + distractors[0:8]\n",
    "    random.shuffle(prompts)\n",
    "    print(prompts)\n",
    "\n",
    "    prompt1 = prompts[0]\n",
    "    prompt2 = prompts[1]\n",
    "    prompt3 = prompts[2]\n",
    "    prompt4 = prompts[3]\n",
    "    prompt5 = prompts[4]\n",
    "    prompt6 = prompts[5]\n",
    "    prompt7 = prompts[6]\n",
    "    prompt8 = prompts[7]\n",
    "    prompt9 = prompts[8]\n"
   ]
  },
  {
   "cell_type": "code",
   "execution_count": null,
   "id": "a65a3b37",
   "metadata": {},
   "outputs": [],
   "source": [
    "import pandas as pd\n",
    "import xlrd \n",
    "\n"
   ]
  },
  {
   "cell_type": "code",
   "execution_count": null,
   "id": "9a4d9fe0",
   "metadata": {},
   "outputs": [],
   "source": [
    "#prompt\n",
    "\n",
    "curr_promts = "
   ]
  },
  {
   "cell_type": "markdown",
   "id": "910cb27f",
   "metadata": {},
   "source": [
    "TrialCount"
   ]
  },
  {
   "cell_type": "code",
   "execution_count": null,
   "id": "5be1d787",
   "metadata": {},
   "outputs": [],
   "source": [
    "# Begin Experiment\n",
    "nTrial = 1        # indicate number of trial sessions\n",
    "trialTotal = 30   # indicate number of trials per session"
   ]
  },
  {
   "cell_type": "code",
   "execution_count": null,
   "id": "54ce023c",
   "metadata": {},
   "outputs": [],
   "source": [
    "#Begin Routine\n",
    "trialMsg = f\"Trial: {nTrial} of {trialTotal}\"\n"
   ]
  },
  {
   "cell_type": "markdown",
   "id": "10fb2399",
   "metadata": {},
   "source": [
    "Fixation Cross"
   ]
  },
  {
   "cell_type": "code",
   "execution_count": null,
   "id": "4ff068a6",
   "metadata": {},
   "outputs": [],
   "source": [
    "# Begin Routine\n",
    "# s1 = \"Stim/ (\" + str(objNum) + \").png\" #objNum is a conditions variable in conditions file\n",
    "\n",
    "#Set possible distractor labels based on animacy\n",
    "if animType == \"Animate\": #animType is a conditions variable in conditions file\n",
    "    animList = anim\n",
    "else:\n",
    "    animList = inanim_natur, inanim_artif"
   ]
  },
  {
   "cell_type": "code",
   "execution_count": null,
   "id": "d892eb51",
   "metadata": {},
   "outputs": [],
   "source": [
    "#Generate 0 or 1 to determine target side\n",
    "randSide = randint(0,2)\n",
    "if randSide == 0:\n",
    "    lResp = objLabel\n",
    "    rResp = animList[randAnim]\n",
    "    corrResp = 'left'\n",
    "else:\n",
    "    lResp = animList[randAnim]\n",
    "    rResp = objLabel\n",
    "    corrResp = 'right'\n",
    "\n",
    "thisExp.addData('Corr', corrResp)\n",
    "thisExp.addData('objDistract', animList[randAnim])"
   ]
  },
  {
   "cell_type": "markdown",
   "id": "4b4f147c",
   "metadata": {},
   "source": [
    "Prompt"
   ]
  },
  {
   "cell_type": "code",
   "execution_count": null,
   "id": "d4b0add8",
   "metadata": {},
   "outputs": [],
   "source": [
    "#End Routine\n",
    "if resp.keys == corrResp:\n",
    "    num_corr = num_corr + 1\n",
    "    num_wrong =0\n",
    "    \n",
    "elif resp.keys != corrResp:\n",
    "    num_wrong = num_wrong + 1\n",
    "    num_corr =0    \n",
    "\n",
    "if num_corr >= 3 and stim_dur >=.15:\n",
    "    stim_dur = stim_dur - .05\n",
    "    num_corr =0\n",
    "\n",
    "elif num_wrong >= 3 and stim_dur <=.3:\n",
    "    stim_dur = stim_dur + .05\n",
    "    num_wrong = 0\n",
    "    \n",
    "\n",
    "nTrial = nTrial + 1\n",
    "thisExp.addData('Duration', stim_dur)"
   ]
  }
 ],
 "metadata": {
  "kernelspec": {
   "display_name": "dnn",
   "language": "python",
   "name": "python3"
  },
  "language_info": {
   "codemirror_mode": {
    "name": "ipython",
    "version": 3
   },
   "file_extension": ".py",
   "mimetype": "text/x-python",
   "name": "python",
   "nbconvert_exporter": "python",
   "pygments_lexer": "ipython3",
   "version": "3.12.9"
  }
 },
 "nbformat": 4,
 "nbformat_minor": 5
}
